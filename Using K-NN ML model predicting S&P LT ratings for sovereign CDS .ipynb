{
 "cells": [
  {
   "cell_type": "markdown",
   "metadata": {},
   "source": [
    "**Author contact: Leslie Qiuchen Yang qy57@cornell.edu**"
   ]
  },
  {
   "cell_type": "markdown",
   "metadata": {},
   "source": [
    "## Data"
   ]
  },
  {
   "cell_type": "markdown",
   "metadata": {},
   "source": [
    "The dataset has sovereign credit default swaps (CDS) from 81 countries and their prices for 3 year, 5 year, 7 year and 10 year swaps - which will be considered as features in our machine learning algorithm. \n",
    "<br>It also has S&P LT ratings - which reflects S&P's opinions about the capacity and willingness of the obligor to meet its financial commitments on an obligation; For example, an obligation rated 'AAA' has the highest rating assigned by S&P Global Ratings and the obligor's capacity to meet its financial commitments on the obligation is extremely strong.\n",
    "<br>I decide to use and categorize S&P LT rating as follows to best train and evalute the model using this dataset:\n",
    "<br>1. combine 'AAA'/'AA+' as 'Investment Grade'\n",
    "<br>2. combine 'A-'/'BBB+'/'BBB' as 'High Yield'\n",
    "<br>3. combine 'B'/'B-' as 'Junk'"
   ]
  },
  {
   "cell_type": "markdown",
   "metadata": {},
   "source": [
    "## Algorithm"
   ]
  },
  {
   "cell_type": "markdown",
   "metadata": {},
   "source": [
    "K-nearest-neighbor (K-NN) machine learning model will be trained and evaluated. In K-NN classification, the output is a class membership - predicted S&P LT ratings for these CDS. An object is classified by a majority vote of its neighbors. If k = 1, then the object is simply assigned to the class of the nearest neighbor. \n",
    "<br>\n",
    "<br> Here, the goal is to predict the classification of S&P LT ratings:'Investment Grade','High Yield' and 'Junk' as I categorized earlier using the majority vote of 3 nearest neighbors (**K**=3). If the 3 nearest neighbor for X country's CDS are ''Investment Grade', 'Investment Grade' and 'High Yield' then X is classified as 'Investment Grade' rating in this pattern recognition process.\n",
    "\n"
   ]
  },
  {
   "cell_type": "markdown",
   "metadata": {},
   "source": [
    "## Application"
   ]
  },
  {
   "cell_type": "markdown",
   "metadata": {},
   "source": [
    "## Machine Learning Steps 1-9"
   ]
  },
  {
   "cell_type": "markdown",
   "metadata": {},
   "source": [
    "**STEP 1** Import the data. \n",
    "<BR>Data is downloaded from FactSet Research Systems Inc - A company provides financial information and analytic software for investment professionals. "
   ]
  },
  {
   "cell_type": "code",
   "execution_count": 30,
   "metadata": {},
   "outputs": [
    {
     "name": "stdout",
     "output_type": "stream",
     "text": [
      "Column headings:\n",
      "Index(['Country CDS', '1 Year', '3 Year', '5 Year', '7 Year', '10 Year',\n",
      "       'S&P LT Rating*', 'Last Change', 'Rating Reason'],\n",
      "      dtype='object')\n"
     ]
    }
   ],
   "source": [
    "import numpy as np\n",
    "import pandas as pd\n",
    "import xlrd\n",
    "import matplotlib\n",
    "\n",
    "df = pd.read_excel('/Users/lesliesmac/Desktop/CdsAndRatings.xlsx', sheet_name='sheet1')\n",
    "\n",
    "print(\"Column headings:\")\n",
    "print(df.columns)"
   ]
  },
  {
   "cell_type": "markdown",
   "metadata": {},
   "source": [
    "<br>"
   ]
  },
  {
   "cell_type": "markdown",
   "metadata": {},
   "source": [
    "**STEP 2** Look at the data type. \n",
    "<br>The features are all numeric, and the label is a categorical string variable."
   ]
  },
  {
   "cell_type": "code",
   "execution_count": 31,
   "metadata": {},
   "outputs": [
    {
     "data": {
      "text/plain": [
       "Country CDS        object\n",
       "1 Year             object\n",
       "3 Year            float64\n",
       "5 Year            float64\n",
       "7 Year            float64\n",
       "10 Year           float64\n",
       "S&P LT Rating*     object\n",
       "Last Change        object\n",
       "Rating Reason      object\n",
       "dtype: object"
      ]
     },
     "execution_count": 31,
     "metadata": {},
     "output_type": "execute_result"
    }
   ],
   "source": [
    "df.dtypes"
   ]
  },
  {
   "cell_type": "markdown",
   "metadata": {},
   "source": [
    "<br>"
   ]
  },
  {
   "cell_type": "markdown",
   "metadata": {},
   "source": [
    "**STEP 3** Categorize the label. \n",
    "<br>Find the count of each category in 'S&P LT Rating*'. Assign new S&P ratings as **'my_rating'**:\n",
    "<br>1. combine 'AAA'/'AA+' as 'Investment Grade'\n",
    "<br>2. combine 'A-'/'BBB+'/'BBB' as 'High Yield'\n",
    "<br>3. combine 'B'/'B-' as 'Junk'\n",
    "\n",
    "    \n",
    "    "
   ]
  },
  {
   "cell_type": "code",
   "execution_count": 32,
   "metadata": {},
   "outputs": [],
   "source": [
    "rating= df[['S&P LT Rating*']]\n",
    "spread = [['3 Year', '5 Year', '7 Year', '10 Year']]\n",
    "df['S&P LT Rating*'] = rating"
   ]
  },
  {
   "cell_type": "code",
   "execution_count": 33,
   "metadata": {
    "scrolled": false
   },
   "outputs": [
    {
     "data": {
      "text/html": [
       "<div>\n",
       "<style scoped>\n",
       "    .dataframe tbody tr th:only-of-type {\n",
       "        vertical-align: middle;\n",
       "    }\n",
       "\n",
       "    .dataframe tbody tr th {\n",
       "        vertical-align: top;\n",
       "    }\n",
       "\n",
       "    .dataframe thead th {\n",
       "        text-align: right;\n",
       "    }\n",
       "</style>\n",
       "<table border=\"1\" class=\"dataframe\">\n",
       "  <thead>\n",
       "    <tr style=\"text-align: right;\">\n",
       "      <th></th>\n",
       "      <th>count</th>\n",
       "    </tr>\n",
       "    <tr>\n",
       "      <th>S&amp;P LT Rating*</th>\n",
       "      <th></th>\n",
       "    </tr>\n",
       "  </thead>\n",
       "  <tbody>\n",
       "    <tr>\n",
       "      <th>A</th>\n",
       "      <td>4</td>\n",
       "    </tr>\n",
       "    <tr>\n",
       "      <th>A+</th>\n",
       "      <td>4</td>\n",
       "    </tr>\n",
       "    <tr>\n",
       "      <th>A-</th>\n",
       "      <td>5</td>\n",
       "    </tr>\n",
       "    <tr>\n",
       "      <th>AA</th>\n",
       "      <td>6</td>\n",
       "    </tr>\n",
       "    <tr>\n",
       "      <th>AA+</th>\n",
       "      <td>5</td>\n",
       "    </tr>\n",
       "    <tr>\n",
       "      <th>AA-</th>\n",
       "      <td>5</td>\n",
       "    </tr>\n",
       "    <tr>\n",
       "      <th>AAA</th>\n",
       "      <td>8</td>\n",
       "    </tr>\n",
       "    <tr>\n",
       "      <th>B</th>\n",
       "      <td>8</td>\n",
       "    </tr>\n",
       "    <tr>\n",
       "      <th>B+</th>\n",
       "      <td>6</td>\n",
       "    </tr>\n",
       "    <tr>\n",
       "      <th>B-</th>\n",
       "      <td>6</td>\n",
       "    </tr>\n",
       "    <tr>\n",
       "      <th>BB</th>\n",
       "      <td>3</td>\n",
       "    </tr>\n",
       "    <tr>\n",
       "      <th>BB+</th>\n",
       "      <td>1</td>\n",
       "    </tr>\n",
       "    <tr>\n",
       "      <th>BB-</th>\n",
       "      <td>3</td>\n",
       "    </tr>\n",
       "    <tr>\n",
       "      <th>BBB</th>\n",
       "      <td>8</td>\n",
       "    </tr>\n",
       "    <tr>\n",
       "      <th>BBB+</th>\n",
       "      <td>2</td>\n",
       "    </tr>\n",
       "    <tr>\n",
       "      <th>BBB-</th>\n",
       "      <td>7</td>\n",
       "    </tr>\n",
       "  </tbody>\n",
       "</table>\n",
       "</div>"
      ],
      "text/plain": [
       "                count\n",
       "S&P LT Rating*       \n",
       "A                   4\n",
       "A+                  4\n",
       "A-                  5\n",
       "AA                  6\n",
       "AA+                 5\n",
       "AA-                 5\n",
       "AAA                 8\n",
       "B                   8\n",
       "B+                  6\n",
       "B-                  6\n",
       "BB                  3\n",
       "BB+                 1\n",
       "BB-                 3\n",
       "BBB                 8\n",
       "BBB+                2\n",
       "BBB-                7"
      ]
     },
     "execution_count": 33,
     "metadata": {},
     "output_type": "execute_result"
    }
   ],
   "source": [
    "df['count'] = 1\n",
    "df[['S&P LT Rating*', 'count']].groupby('S&P LT Rating*').count()"
   ]
  },
  {
   "cell_type": "markdown",
   "metadata": {},
   "source": [
    "combining groups as below:"
   ]
  },
  {
   "cell_type": "code",
   "execution_count": 34,
   "metadata": {},
   "outputs": [
    {
     "data": {
      "text/html": [
       "<div>\n",
       "<style scoped>\n",
       "    .dataframe tbody tr th:only-of-type {\n",
       "        vertical-align: middle;\n",
       "    }\n",
       "\n",
       "    .dataframe tbody tr th {\n",
       "        vertical-align: top;\n",
       "    }\n",
       "\n",
       "    .dataframe thead th {\n",
       "        text-align: right;\n",
       "    }\n",
       "</style>\n",
       "<table border=\"1\" class=\"dataframe\">\n",
       "  <thead>\n",
       "    <tr style=\"text-align: right;\">\n",
       "      <th></th>\n",
       "      <th>Country CDS</th>\n",
       "      <th>1 Year</th>\n",
       "      <th>3 Year</th>\n",
       "      <th>5 Year</th>\n",
       "      <th>7 Year</th>\n",
       "      <th>10 Year</th>\n",
       "      <th>S&amp;P LT Rating*</th>\n",
       "      <th>Last Change</th>\n",
       "      <th>Rating Reason</th>\n",
       "      <th>count</th>\n",
       "      <th>my_rating</th>\n",
       "    </tr>\n",
       "  </thead>\n",
       "  <tbody>\n",
       "    <tr>\n",
       "      <th>0</th>\n",
       "      <td>United States</td>\n",
       "      <td>7.79</td>\n",
       "      <td>10.31</td>\n",
       "      <td>15.88</td>\n",
       "      <td>22.11</td>\n",
       "      <td>27.21</td>\n",
       "      <td>AA+</td>\n",
       "      <td>10 Jun '13</td>\n",
       "      <td>NaN</td>\n",
       "      <td>1</td>\n",
       "      <td>Investment Grade</td>\n",
       "    </tr>\n",
       "    <tr>\n",
       "      <th>2</th>\n",
       "      <td>Russia</td>\n",
       "      <td>40.17</td>\n",
       "      <td>65.77</td>\n",
       "      <td>99.88</td>\n",
       "      <td>134.99</td>\n",
       "      <td>157.24</td>\n",
       "      <td>BBB</td>\n",
       "      <td>23 Feb '18</td>\n",
       "      <td>Upgrade</td>\n",
       "      <td>1</td>\n",
       "      <td>High Yield</td>\n",
       "    </tr>\n",
       "    <tr>\n",
       "      <th>4</th>\n",
       "      <td>Italy</td>\n",
       "      <td>52.62</td>\n",
       "      <td>116.82</td>\n",
       "      <td>159.94</td>\n",
       "      <td>187.62</td>\n",
       "      <td>202.11</td>\n",
       "      <td>BBB</td>\n",
       "      <td>26 Oct '18</td>\n",
       "      <td>NaN</td>\n",
       "      <td>1</td>\n",
       "      <td>High Yield</td>\n",
       "    </tr>\n",
       "    <tr>\n",
       "      <th>5</th>\n",
       "      <td>Germany</td>\n",
       "      <td>2.02</td>\n",
       "      <td>5.86</td>\n",
       "      <td>10.52</td>\n",
       "      <td>14.96</td>\n",
       "      <td>20.94</td>\n",
       "      <td>AAA</td>\n",
       "      <td>13 Jan '12</td>\n",
       "      <td>NaN</td>\n",
       "      <td>1</td>\n",
       "      <td>Investment Grade</td>\n",
       "    </tr>\n",
       "    <tr>\n",
       "      <th>7</th>\n",
       "      <td>Canada</td>\n",
       "      <td>15.07</td>\n",
       "      <td>20.11</td>\n",
       "      <td>27.28</td>\n",
       "      <td>32.88</td>\n",
       "      <td>38.31</td>\n",
       "      <td>AAA</td>\n",
       "      <td>14 Oct '92</td>\n",
       "      <td>New</td>\n",
       "      <td>1</td>\n",
       "      <td>Investment Grade</td>\n",
       "    </tr>\n",
       "  </tbody>\n",
       "</table>\n",
       "</div>"
      ],
      "text/plain": [
       "     Country CDS 1 Year  3 Year  5 Year  7 Year  10 Year S&P LT Rating*  \\\n",
       "0  United States   7.79   10.31   15.88   22.11    27.21            AA+   \n",
       "2         Russia  40.17   65.77   99.88  134.99   157.24            BBB   \n",
       "4          Italy  52.62  116.82  159.94  187.62   202.11            BBB   \n",
       "5        Germany   2.02    5.86   10.52   14.96    20.94            AAA   \n",
       "7         Canada  15.07   20.11   27.28   32.88    38.31            AAA   \n",
       "\n",
       "  Last Change Rating Reason  count         my_rating  \n",
       "0  10 Jun '13           NaN      1  Investment Grade  \n",
       "2  23 Feb '18       Upgrade      1        High Yield  \n",
       "4  26 Oct '18           NaN      1        High Yield  \n",
       "5  13 Jan '12           NaN      1  Investment Grade  \n",
       "7  14 Oct '92           New      1  Investment Grade  "
      ]
     },
     "execution_count": 34,
     "metadata": {},
     "output_type": "execute_result"
    }
   ],
   "source": [
    "def set_myrating(row):\n",
    "    if row[\"S&P LT Rating*\"] == \"AAA\" or row[\"S&P LT Rating*\"] == \"AA+\":\n",
    "        return \"Investment Grade\"\n",
    "    elif row[\"S&P LT Rating*\"] == \"BBB+\" or row[\"S&P LT Rating*\"] == \"A-\" or row[\"S&P LT Rating*\"] == \"BBB\":\n",
    "        return \"High Yield\"\n",
    "    elif row[\"S&P LT Rating*\"] == \"B\" or row[\"S&P LT Rating*\"] == \"B-\":\n",
    "        return \"Junk\"\n",
    "    else:\n",
    "        return \"NA\"\n",
    "\n",
    "df = df.assign(my_rating=df.apply(set_myrating, axis=1))\n",
    "df_final = df.loc[df['my_rating'] != 'NA', :]\n",
    "df_final.head()"
   ]
  },
  {
   "cell_type": "markdown",
   "metadata": {},
   "source": [
    "<br>"
   ]
  },
  {
   "cell_type": "markdown",
   "metadata": {},
   "source": [
    "**STEP 4** Plot features & label\n",
    "<br> Create some plots to see how the classes might, or might not, be separated by the value of the features. In an ideal case, the label classes will be perfectly separated by one or more of the feature pairs, e.g. '3 Year' and '7 year' spread.\n",
    "<br> Here we see there's some overlapping area among 'Good' and 'OK' groups; 'OK' and 'Not good' groups are separated more clearly."
   ]
  },
  {
   "cell_type": "code",
   "execution_count": 35,
   "metadata": {},
   "outputs": [
    {
     "data": {
      "image/png": "[encoded data removed]",
      "text/plain": [
       "<Figure size 486x360 with 1 Axes>"
      ]
     },
     "metadata": {},
     "output_type": "display_data"
    },
    {
     "data": {
      "image/png": "[encoded data removed]",
      "text/plain": [
       "<Figure size 486x360 with 1 Axes>"
      ]
     },
     "metadata": {},
     "output_type": "display_data"
    }
   ],
   "source": [
    "%matplotlib inline\n",
    "def plot_cds(df_final, col1, col2):\n",
    "    import seaborn as sns\n",
    "    import matplotlib.pyplot as plt\n",
    "    sns.lmplot(x = col1, y = col2, \n",
    "               data = df_final, \n",
    "               hue = \"my_rating\", \n",
    "               fit_reg = False)\n",
    "    plt.xlabel(col1)\n",
    "    plt.ylabel(col2)\n",
    "    plt.title('new S&P rating shown by color')\n",
    "    plt.show()\n",
    "plot_cds(df_final, '3 Year', '7 Year')\n",
    "plot_cds(df_final, '5 Year', '10 Year')"
   ]
  },
  {
   "cell_type": "markdown",
   "metadata": {},
   "source": [
    "<br>"
   ]
  },
  {
   "cell_type": "markdown",
   "metadata": {},
   "source": [
    "**STEP 5** Scale / normalize the numeric values of the features\n",
    "<br> A normalized dataset should ~ N (0,1); checked the mean & sd"
   ]
  },
  {
   "cell_type": "code",
   "execution_count": 36,
   "metadata": {},
   "outputs": [
    {
     "name": "stdout",
     "output_type": "stream",
     "text": [
      "       3 Year  5 Year  7 Year  10 Year\n",
      "count  42.000  42.000  42.000   42.000\n",
      "mean    0.000  -0.000   0.000   -0.000\n",
      "std     1.012   1.012   1.012    1.012\n",
      "min    -0.692  -0.773  -0.829   -0.870\n",
      "25%    -0.661  -0.727  -0.776   -0.813\n",
      "50%    -0.542  -0.499  -0.452   -0.421\n",
      "75%     0.607   0.602   0.611    0.624\n",
      "max     3.204   2.876   2.628    2.488\n"
     ]
    }
   ],
   "source": [
    "from sklearn.preprocessing import scale\n",
    "\n",
    "num_cols = ['3 Year', '5 Year', '7 Year', '10 Year']\n",
    "df_scaled = scale(df_final[num_cols])\n",
    "df_scaled = pd.DataFrame(df_scaled, columns = num_cols)\n",
    "print(df_scaled.describe().round(3))"
   ]
  },
  {
   "cell_type": "markdown",
   "metadata": {},
   "source": [
    "In order to use sklearn pkg, the strings indicting S&P ratings must be re-coded as numbers.\n",
    " <br> Here we re-coded as {'Investment Grade':0, 'High Yield':1, 'Junk':2}"
   ]
  },
  {
   "cell_type": "code",
   "execution_count": 37,
   "metadata": {},
   "outputs": [
    {
     "data": {
      "text/html": [
       "<div>\n",
       "<style scoped>\n",
       "    .dataframe tbody tr th:only-of-type {\n",
       "        vertical-align: middle;\n",
       "    }\n",
       "\n",
       "    .dataframe tbody tr th {\n",
       "        vertical-align: top;\n",
       "    }\n",
       "\n",
       "    .dataframe thead th {\n",
       "        text-align: right;\n",
       "    }\n",
       "</style>\n",
       "<table border=\"1\" class=\"dataframe\">\n",
       "  <thead>\n",
       "    <tr style=\"text-align: right;\">\n",
       "      <th></th>\n",
       "      <th>3 Year</th>\n",
       "      <th>5 Year</th>\n",
       "      <th>7 Year</th>\n",
       "      <th>10 Year</th>\n",
       "      <th>my_rating</th>\n",
       "    </tr>\n",
       "  </thead>\n",
       "  <tbody>\n",
       "    <tr>\n",
       "      <th>0</th>\n",
       "      <td>-0.670380</td>\n",
       "      <td>-0.750773</td>\n",
       "      <td>-0.800690</td>\n",
       "      <td>-0.845245</td>\n",
       "      <td>0</td>\n",
       "    </tr>\n",
       "    <tr>\n",
       "      <th>1</th>\n",
       "      <td>-0.453055</td>\n",
       "      <td>-0.422562</td>\n",
       "      <td>-0.354148</td>\n",
       "      <td>-0.325474</td>\n",
       "      <td>1</td>\n",
       "    </tr>\n",
       "    <tr>\n",
       "      <th>2</th>\n",
       "      <td>-0.253011</td>\n",
       "      <td>-0.187891</td>\n",
       "      <td>-0.145949</td>\n",
       "      <td>-0.146115</td>\n",
       "      <td>1</td>\n",
       "    </tr>\n",
       "    <tr>\n",
       "      <th>3</th>\n",
       "      <td>-0.687818</td>\n",
       "      <td>-0.771716</td>\n",
       "      <td>-0.828975</td>\n",
       "      <td>-0.870308</td>\n",
       "      <td>0</td>\n",
       "    </tr>\n",
       "    <tr>\n",
       "      <th>4</th>\n",
       "      <td>-0.631978</td>\n",
       "      <td>-0.706230</td>\n",
       "      <td>-0.758085</td>\n",
       "      <td>-0.800875</td>\n",
       "      <td>0</td>\n",
       "    </tr>\n",
       "  </tbody>\n",
       "</table>\n",
       "</div>"
      ],
      "text/plain": [
       "     3 Year    5 Year    7 Year   10 Year  my_rating\n",
       "0 -0.670380 -0.750773 -0.800690 -0.845245          0\n",
       "1 -0.453055 -0.422562 -0.354148 -0.325474          1\n",
       "2 -0.253011 -0.187891 -0.145949 -0.146115          1\n",
       "3 -0.687818 -0.771716 -0.828975 -0.870308          0\n",
       "4 -0.631978 -0.706230 -0.758085 -0.800875          0"
      ]
     },
     "execution_count": 37,
     "metadata": {},
     "output_type": "execute_result"
    }
   ],
   "source": [
    "levels = {'Investment Grade':0, 'High Yield':1, 'Junk':2}\n",
    "df_scaled['my_rating'] = [levels[x] for x in df_final['my_rating']]\n",
    "df_scaled.head()"
   ]
  },
  {
   "cell_type": "markdown",
   "metadata": {},
   "source": [
    "<br>"
   ]
  },
  {
   "cell_type": "markdown",
   "metadata": {},
   "source": [
    "**STEP 6** Split the dataset\n",
    "<br>Split the dataset **df_scaled** into randomly sampled training datasets **df_train_** and evaluation datasets **df_test_**. Checked the shape of splited datasets."
   ]
  },
  {
   "cell_type": "code",
   "execution_count": 38,
   "metadata": {},
   "outputs": [
    {
     "name": "stdout",
     "output_type": "stream",
     "text": [
      "(21, 4)\n",
      "(21,)\n",
      "(21, 4)\n",
      "(21,)\n"
     ]
    }
   ],
   "source": [
    "## Split the data into a training and test set\n",
    "from sklearn.model_selection import train_test_split\n",
    "#set seed\n",
    "np.random.seed(129)\n",
    "df_final_split = train_test_split(np.asmatrix(df_scaled), test_size = 21)\n",
    "df_train_features = df_final_split[0][:, :4]\n",
    "df_train_labels = np.ravel(df_final_split[0][:, 4])\n",
    "df_test_features = df_final_split[1][:, :4]\n",
    "df_test_labels = np.ravel(df_final_split[1][:, 4])\n",
    "#print the shape to check the split\n",
    "print(df_train_features.shape)\n",
    "print(df_train_labels.shape)\n",
    "print(df_test_features.shape)\n",
    "print(df_test_labels.shape)"
   ]
  },
  {
   "cell_type": "markdown",
   "metadata": {},
   "source": [
    "<br>"
   ]
  },
  {
   "cell_type": "markdown",
   "metadata": {},
   "source": [
    "**STEP 7** Define and train the K-NN model. **K=3**"
   ]
  },
  {
   "cell_type": "code",
   "execution_count": 39,
   "metadata": {},
   "outputs": [
    {
     "data": {
      "text/plain": [
       "KNeighborsClassifier(algorithm='auto', leaf_size=30, metric='minkowski',\n",
       "           metric_params=None, n_jobs=1, n_neighbors=3, p=2,\n",
       "           weights='uniform')"
      ]
     },
     "execution_count": 39,
     "metadata": {},
     "output_type": "execute_result"
    }
   ],
   "source": [
    "from sklearn.neighbors import KNeighborsClassifier\n",
    "KNN_mod = KNeighborsClassifier(n_neighbors = 3)\n",
    "KNN_mod.fit(df_train_features, df_train_labels)"
   ]
  },
  {
   "cell_type": "markdown",
   "metadata": {},
   "source": [
    "<br>"
   ]
  },
  {
   "cell_type": "markdown",
   "metadata": {},
   "source": [
    "**STEP 8** Evaluate this model"
   ]
  },
  {
   "cell_type": "markdown",
   "metadata": {},
   "source": [
    "**1. using the accuracy statistic**"
   ]
  },
  {
   "cell_type": "code",
   "execution_count": 40,
   "metadata": {},
   "outputs": [
    {
     "name": "stdout",
     "output_type": "stream",
     "text": [
      "Accuracy =95.23809523809524\n"
     ]
    }
   ],
   "source": [
    "df_test = pd.DataFrame(df_test_features, columns = num_cols)\n",
    "df_test['predicted'] = KNN_mod.predict(df_test_features)\n",
    "df_test['correct'] = [1 if x == z else 0 for x, z in zip(df_test['predicted'], df_test_labels)]\n",
    "accuracy = 100.0 * float(sum(df_test['correct'])) / float(df_test.shape[0])\n",
    "print('Accuracy =' + str(accuracy))"
   ]
  },
  {
   "cell_type": "markdown",
   "metadata": {},
   "source": [
    "**2. using 'true vs predicted' plot**"
   ]
  },
  {
   "cell_type": "code",
   "execution_count": 41,
   "metadata": {},
   "outputs": [
    {
     "data": {
      "text/plain": [
       "'How many S&P ratings are misclassified?'"
      ]
     },
     "execution_count": 41,
     "metadata": {},
     "output_type": "execute_result"
    },
    {
     "data": {
      "image/png": "[encoded data removed]",
      "text/plain": [
       "<Figure size 432x432 with 1 Axes>"
      ]
     },
     "metadata": {},
     "output_type": "display_data"
    },
    {
     "data": {
      "image/png": "[encoded data removed]",
      "text/plain": [
       "<Figure size 432x432 with 1 Axes>"
      ]
     },
     "metadata": {},
     "output_type": "display_data"
    }
   ],
   "source": [
    "levels = {0:'Investment Grade', 1:'High Yield', 2:'Junk'}\n",
    "df_test['my_rating'] = [levels[x] for x in df_test['predicted']]\n",
    "markers = {1:'^', 0:'o'}\n",
    "colors = {'Investment Grade':'blue', 'High Yield':'orange', 'Junk':'green'}\n",
    "def plot_shapes(df, col1,col2,  markers, colors):\n",
    "    import matplotlib.pyplot as plt\n",
    "    import seaborn as sns\n",
    "    ax = plt.figure(figsize=(6, 6)).gca() # define plot axis\n",
    "    for m in markers: # iterate over marker dictioary keys\n",
    "        for c in colors: # iterate over color dictionary keys\n",
    "            df_temp = df[(df['correct'] == m)  & (df['my_rating'] == c)]\n",
    "            sns.regplot(x = col1, y = col2, \n",
    "                        data = df_temp,  \n",
    "                        fit_reg = False, \n",
    "                        scatter_kws={'color': colors[c]},\n",
    "                        marker = markers[m],\n",
    "                        ax = ax)\n",
    "    plt.xlabel(col1)\n",
    "    plt.ylabel(col2)\n",
    "    plt.title('Predicted S&P rating shown by color')\n",
    "    return 'How many S&P ratings are misclassified?'\n",
    "plot_shapes(df_test, '3 Year', '7 Year', markers, colors)\n",
    "plot_shapes(df_test, '5 Year', '10 Year', markers, colors)"
   ]
  },
  {
   "cell_type": "markdown",
   "metadata": {},
   "source": [
    "## Summary"
   ]
  },
  {
   "cell_type": "markdown",
   "metadata": {},
   "source": [
    "Based on Step 8, our machine learning model achieved an accuracy of 95.24%. \n",
    "<br> Based on Step 9's plots, correctly classified cases are shown by triangles and incorrectly classified cases are shown by circles. only one S&P rating is not classified correctly, which located in the 'overlapping' area between 'Investment Grade' and 'High Yield' types of CDS. I think it is forgivable: 1. limit of our sample size - sample size & Number of features; 2. inherent difficulty of clearly classification of S&P LT ratings.\n",
    "\n",
    "<br>**Overall, I think K-NN machine learning model is a great tool to predict the S&P LT ratings. It can served as a reference in credit ratings. As more features and more data come in, the accuracy of the model will be improved.**"
   ]
  },
  {
   "cell_type": "code",
   "execution_count": null,
   "metadata": {},
   "outputs": [],
   "source": []
  },
  {
   "cell_type": "code",
   "execution_count": null,
   "metadata": {},
   "outputs": [],
   "source": []
  }
 ],
 "metadata": {
  "kernelspec": {
   "display_name": "Python 3",
   "language": "python",
   "name": "python3"
  },
  "language_info": {
   "codemirror_mode": {
    "name": "ipython",
    "version": 3
   },
   "file_extension": ".py",
   "mimetype": "text/x-python",
   "name": "python",
   "nbconvert_exporter": "python",
   "pygments_lexer": "ipython3",
   "version": "3.6.5"
  }
 },
 "nbformat": 4,
 "nbformat_minor": 2
}

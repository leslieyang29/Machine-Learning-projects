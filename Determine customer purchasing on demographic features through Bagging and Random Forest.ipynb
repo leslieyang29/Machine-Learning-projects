{
 "cells": [
  {
   "cell_type": "markdown",
   "metadata": {},
   "source": [
    "**Author contact: Leslie Qiuchen Yang qy57@cornell.edu**"
   ]
  },
  {
   "cell_type": "markdown",
   "metadata": {},
   "source": [
    "## Data"
   ]
  },
  {
   "cell_type": "markdown",
   "metadata": {},
   "source": [
    "The dataset came from the edX course-Microsoft: DAT275x Principles of Machine Learning. In 1998, the Adventure Works Cycles company collected a large volume of data about their existing customers, including demographic features and information about purchases they have made. We are particularly interested in analyzing customer data to determine any apparent relationships between demographic features known about the customers and the likelihood of a customer purchasing a bike. "
   ]
  },
  {
   "cell_type": "markdown",
   "metadata": {},
   "source": [
    "## Algorithm"
   ]
  },
  {
   "cell_type": "markdown",
   "metadata": {},
   "source": [
    "I will perform a widely used ensemble method known as **bootstrap aggregating** or simply **bagging**. Bagging follows a simple procedure:\n",
    "1. N learners (machine learning models) are defined. \n",
    "2. N subsamples of the training data are created by **Bernoulli sampling with replacement**.\n",
    "3. The N learners are trained on the subsamples of the training data.\n",
    "4. The ensemble is scored by averaging, or taking a majority vote, of the predictions from the N learners.\n",
    "\n",
    "**Classification models** are most typically used with bagging methods. The most common such algorithm is know as the **random forest**. The random forest method is highly scalable and generally produces good results, even for complex problems. By using random forest method, we are able to predict whether a customer will purchase the bike based on demographic features. "
   ]
  },
  {
   "cell_type": "markdown",
   "metadata": {},
   "source": [
    "## Application"
   ]
  },
  {
   "cell_type": "markdown",
   "metadata": {},
   "source": [
    "**STEP 1** Import packages and datasets"
   ]
  },
  {
   "cell_type": "code",
   "execution_count": 158,
   "metadata": {},
   "outputs": [],
   "source": [
    "from sklearn.ensemble import RandomForestClassifier\n",
    "from sklearn import preprocessing\n",
    "#from statsmodels.api import datasets\n",
    "from sklearn import datasets ## Get dataset from sklearn\n",
    "import sklearn.model_selection as ms\n",
    "import sklearn.metrics as sklm\n",
    "import matplotlib.pyplot as plt\n",
    "import seaborn as sns\n",
    "import pandas as pd\n",
    "import numpy as np\n",
    "import numpy.random as nr\n",
    "\n",
    "%matplotlib inline\n",
    "\n",
    "spenddata = pd.read_csv('/Users/lesliesmac/Desktop/AW_AveMonthSpend.csv')\n",
    "demodata = pd.read_csv('/Users/lesliesmac/Desktop/AdvWorksCusts.csv')\n",
    "bikedata = pd.read_csv('/Users/lesliesmac/Desktop/AW_BikeBuyer.csv')"
   ]
  },
  {
   "cell_type": "code",
   "execution_count": 45,
   "metadata": {},
   "outputs": [],
   "source": [
    "merge1 = pd.merge(spenddata, demodata, on='CustomerID')\n",
    "now = pd.Timestamp(pd.datetime.now())\n",
    "#create age variable from DOB as 'new_age'\n",
    "merge1['BirthDate'] = pd.to_datetime(merge1['BirthDate'])\n",
    "now = pd.datetime.now()    \n",
    "merge1['age'] = (now - merge1['BirthDate'])/365\n",
    "merge1['age'].head()\n",
    "merge1['new_age']=merge1['age'].dt.days"
   ]
  },
  {
   "cell_type": "markdown",
   "metadata": {},
   "source": [
    "**STEP 2** Create master dataset - merge2"
   ]
  },
  {
   "cell_type": "code",
   "execution_count": 162,
   "metadata": {},
   "outputs": [
    {
     "name": "stdout",
     "output_type": "stream",
     "text": [
      "CustomerID                        int64\n",
      "BikeBuyer                         int64\n",
      "AveMonthSpend                     int64\n",
      "Title                            object\n",
      "FirstName                        object\n",
      "MiddleName                       object\n",
      "LastName                         object\n",
      "Suffix                           object\n",
      "AddressLine1                     object\n",
      "AddressLine2                     object\n",
      "City                             object\n",
      "StateProvinceName                object\n",
      "CountryRegionName                object\n",
      "PostalCode                       object\n",
      "PhoneNumber                      object\n",
      "BirthDate                datetime64[ns]\n",
      "Education                        object\n",
      "Occupation                       object\n",
      "Gender                           object\n",
      "MaritalStatus                    object\n",
      "HomeOwnerFlag                     int64\n",
      "NumberCarsOwned                   int64\n",
      "NumberChildrenAtHome              int64\n",
      "TotalChildren                     int64\n",
      "YearlyIncome                      int64\n",
      "age                     timedelta64[ns]\n",
      "new_age                           int64\n",
      "agecate                          object\n",
      "dtype: object\n",
      "Shape of data:(17209, 28)\n"
     ]
    }
   ],
   "source": [
    "merge2 = pd.merge(bikedata, merge1, on='CustomerID')\n",
    "print(merge2.dtypes)\n",
    "print('Shape of data:' +str(merge2.shape))"
   ]
  },
  {
   "cell_type": "markdown",
   "metadata": {},
   "source": [
    "**STEP 3** Plot numerical features."
   ]
  },
  {
   "cell_type": "code",
   "execution_count": 167,
   "metadata": {},
   "outputs": [
    {
     "data": {
      "image/png": "[encoded data removed]",
      "text/plain": [
       "<Figure size 432x288 with 1 Axes>"
      ]
     },
     "metadata": {},
     "output_type": "display_data"
    },
    {
     "data": {
      "image/png": "[encoded data removed]",
      "text/plain": [
       "<Figure size 432x288 with 1 Axes>"
      ]
     },
     "metadata": {},
     "output_type": "display_data"
    },
    {
     "data": {
      "image/png": "[encoded data removed]",
      "text/plain": [
       "<Figure size 432x288 with 1 Axes>"
      ]
     },
     "metadata": {},
     "output_type": "display_data"
    }
   ],
   "source": [
    "def plot_box(merge2, cols, col_x = 'BikeBuyer'):\n",
    "    for col in cols:\n",
    "        sns.set_style(\"whitegrid\")\n",
    "        sns.boxplot(x=col_x, y=col, data=merge2)\n",
    "        plt.xlabel(col_x) # Set text for the x axis\n",
    "        plt.ylabel(col)# Set text for y axis\n",
    "        plt.show()\n",
    "\n",
    "num_cols = ['YearlyIncome','AveMonthSpend','new_age']\n",
    "plot_box(merge2, num_cols, col_x = 'BikeBuyer')\n"
   ]
  },
  {
   "cell_type": "markdown",
   "metadata": {},
   "source": [
    "Transfer categorical variables into dummy variables."
   ]
  },
  {
   "cell_type": "code",
   "execution_count": 220,
   "metadata": {},
   "outputs": [],
   "source": [
    "df_2 = pd.get_dummies(merge2,drop_first=True)\n",
    "\n",
    "Features = np.array(df_2[['YearlyIncome','Gender_M','MaritalStatus_S','new_age','AveMonthSpend']])\n",
    "Labels = np.array(df_2[['BikeBuyer']])"
   ]
  },
  {
   "cell_type": "markdown",
   "metadata": {},
   "source": [
    "**STEP 4** Bagging"
   ]
  },
  {
   "cell_type": "code",
   "execution_count": 221,
   "metadata": {},
   "outputs": [],
   "source": [
    "## Randomly sample cases to create independent training and test data\n",
    "nr.seed(190)\n",
    "indx = range(Features.shape[0])\n",
    "indx = ms.train_test_split(indx, test_size = 10000)\n",
    "X_train = Features[indx[0],:]\n",
    "y_train = np.ravel(Labels[indx[0]])#return 1D array\n",
    "X_test = Features[indx[1],:]\n",
    "y_test = np.ravel(Labels[indx[1]])"
   ]
  },
  {
   "cell_type": "markdown",
   "metadata": {},
   "source": [
    "**STEP 5** Transform features into a Z-score scale"
   ]
  },
  {
   "cell_type": "code",
   "execution_count": 222,
   "metadata": {},
   "outputs": [
    {
     "name": "stderr",
     "output_type": "stream",
     "text": [
      "/anaconda3/lib/python3.6/site-packages/sklearn/utils/validation.py:475: DataConversionWarning: Data with input dtype int64 was converted to float64 by StandardScaler.\n",
      "  warnings.warn(msg, DataConversionWarning)\n",
      "/anaconda3/lib/python3.6/site-packages/sklearn/utils/validation.py:475: DataConversionWarning: Data with input dtype int64 was converted to float64 by StandardScaler.\n",
      "  warnings.warn(msg, DataConversionWarning)\n"
     ]
    }
   ],
   "source": [
    "scale = preprocessing.StandardScaler()\n",
    "scale.fit(X_train)\n",
    "X_train = scale.transform(X_train)"
   ]
  },
  {
   "cell_type": "markdown",
   "metadata": {},
   "source": [
    "**STEP 6** Define and fit a random forest model. The code in the cell below defines random forest model with 5 trees using the `RandomForestClassifer` function from the Scikit Learn ensemble  package, and then fits the model."
   ]
  },
  {
   "cell_type": "code",
   "execution_count": 223,
   "metadata": {},
   "outputs": [
    {
     "data": {
      "text/plain": [
       "RandomForestClassifier(bootstrap=True, class_weight=None, criterion='gini',\n",
       "            max_depth=None, max_features='auto', max_leaf_nodes=None,\n",
       "            min_impurity_decrease=0.0, min_impurity_split=None,\n",
       "            min_samples_leaf=1, min_samples_split=2,\n",
       "            min_weight_fraction_leaf=0.0, n_estimators=5, n_jobs=1,\n",
       "            oob_score=False, random_state=None, verbose=0,\n",
       "            warm_start=False)"
      ]
     },
     "execution_count": 223,
     "metadata": {},
     "output_type": "execute_result"
    }
   ],
   "source": [
    "nr.seed(444)\n",
    "rf_clf = RandomForestClassifier(n_estimators=5)\n",
    "rf_clf.fit(X_train, y_train)"
   ]
  },
  {
   "cell_type": "markdown",
   "metadata": {},
   "source": [
    "**STEP 7** \n",
    "Next, the code in the cell below performs the following processing to score the test data subset:\n",
    "1. The test features are scaled using the scaler computed for the training features. \n",
    "2. The `predict` method is used to compute the scores from the scaled features. "
   ]
  },
  {
   "cell_type": "code",
   "execution_count": 224,
   "metadata": {},
   "outputs": [
    {
     "name": "stderr",
     "output_type": "stream",
     "text": [
      "/anaconda3/lib/python3.6/site-packages/sklearn/utils/validation.py:475: DataConversionWarning: Data with input dtype int64 was converted to float64 by StandardScaler.\n",
      "  warnings.warn(msg, DataConversionWarning)\n"
     ]
    }
   ],
   "source": [
    "X_test = scale.transform(X_test)\n",
    "scores = rf_clf.predict(X_test)"
   ]
  },
  {
   "cell_type": "markdown",
   "metadata": {},
   "source": [
    "**STEP 8** Evaluate the model results. \n",
    "\n",
    "Two label categories: Bike Buyer and NotBuy. Find the Accuracy, Precision and Recall for the model."
   ]
  },
  {
   "cell_type": "code",
   "execution_count": 225,
   "metadata": {},
   "outputs": [
    {
     "name": "stdout",
     "output_type": "stream",
     "text": [
      "                    Confusion matrix\n",
      "                 Score Buy   Score NotBuy\n",
      "Actual Buy       5623         1115\n",
      "Actual NotBuy    1282         1980\n",
      "\n",
      "Accuracy        0.76\n",
      " \n",
      "                 Buy          NotBuy  \n",
      "Num case      6738.00       3262.00\n",
      "Precision       0.81          0.64\n",
      "Recall          0.83          0.61\n",
      "F1              0.82          0.62\n"
     ]
    }
   ],
   "source": [
    "def print_metrics_3(labels, scores):\n",
    "   \n",
    "    conf = sklm.confusion_matrix(labels, scores)\n",
    "    print('                    Confusion matrix')\n",
    "    print('                 Score Buy   Score NotBuy')\n",
    "    print('Actual Buy     %6d' % conf[0,0] + '        %5d' % conf[0,1] )\n",
    "    print('Actual NotBuy  %6d' % conf[1,0] + '        %5d' % conf[1,1] )\n",
    "    ## Now compute and display the accuracy and metrics\n",
    "    print('')\n",
    "    print('Accuracy        %0.2f' % sklm.accuracy_score(labels, scores))\n",
    "    metrics = sklm.precision_recall_fscore_support(labels, scores)\n",
    "   \n",
    "    print(' ')\n",
    "    print('                 Buy          NotBuy  ')\n",
    "    print('Num case      %0.2f' % metrics[3][0] + '       %0.2f' % metrics[3][1]  )\n",
    "    print('Precision       %0.2f' % metrics[0][0] + '          %0.2f' % metrics[0][1]  )\n",
    "    print('Recall          %0.2f' % metrics[1][0] + '          %0.2f' % metrics[1][1]  )\n",
    "    print('F1              %0.2f' % metrics[2][0] + '          %0.2f' % metrics[2][1]  )\n",
    "    \n",
    "print_metrics_3(y_test, scores)  \n"
   ]
  },
  {
   "cell_type": "markdown",
   "metadata": {},
   "source": [
    "## Summary\n",
    "\n",
    "The Machine learning model achieved 76% of accuracy in predicting customer purchasing. By looking at the Buyer cases vs NotBuy cases, we find a much higher accuracy in Buyer cases - since we are using more Buyer cases in training, the model assigned more weight in predicting Buyer cases. To adjust this, we need to include weight so that we can underweight the Buyer cases and overweight the NotBuy case to achieve better performance."
   ]
  },
  {
   "cell_type": "code",
   "execution_count": null,
   "metadata": {},
   "outputs": [],
   "source": []
  }
 ],
 "metadata": {
  "kernelspec": {
   "display_name": "Python 3",
   "language": "python",
   "name": "python3"
  },
  "language_info": {
   "codemirror_mode": {
    "name": "ipython",
    "version": 3
   },
   "file_extension": ".py",
   "mimetype": "text/x-python",
   "name": "python",
   "nbconvert_exporter": "python",
   "pygments_lexer": "ipython3",
   "version": "3.6.5"
  }
 },
 "nbformat": 4,
 "nbformat_minor": 2
}

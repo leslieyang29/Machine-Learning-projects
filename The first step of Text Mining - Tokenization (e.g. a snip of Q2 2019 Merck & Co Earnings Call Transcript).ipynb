{
 "cells": [
  {
   "cell_type": "markdown",
   "metadata": {},
   "source": [
    "**What is Tokenization?**\n",
    "\n",
    "NLTK is a powerful Python package that provides a set of diverse natural languages algorithms. It has a powerful function `word_tokenize` that can break text paragraph into words - it is the first step of text mining.\n",
    "<br> For example, the sentence of 'How are you ?' will be transformed into 'How', 'are', 'you', '?' \n",
    "<br> Then we are able to perform more analysis such as sentiment analysis and create plots such as bar plot."
   ]
  },
  {
   "cell_type": "code",
   "execution_count": 18,
   "metadata": {},
   "outputs": [
    {
     "name": "stderr",
     "output_type": "stream",
     "text": [
      "[nltk_data] Downloading package punkt to\n",
      "[nltk_data]     /Users/lesliesmac/nltk_data...\n",
      "[nltk_data]   Package punkt is already up-to-date!\n",
      "[nltk_data] Downloading package stopwords to\n",
      "[nltk_data]     /Users/lesliesmac/nltk_data...\n",
      "[nltk_data]   Package stopwords is already up-to-date!\n"
     ]
    },
    {
     "data": {
      "text/plain": [
       "True"
      ]
     },
     "execution_count": 18,
     "metadata": {},
     "output_type": "execute_result"
    }
   ],
   "source": [
    "nltk.download('punkt')\n",
    "nltk.download('stopwords')"
   ]
  },
  {
   "cell_type": "markdown",
   "metadata": {},
   "source": [
    "**Below paragraph was said by Kenneth C. Frazier - Merck & Co., Inc. - Chairman, President & CEO in the Q2 2019 Merck & Co Inc Earnings Call**"
   ]
  },
  {
   "cell_type": "code",
   "execution_count": 80,
   "metadata": {},
   "outputs": [],
   "source": [
    "text=\"\"\"Thank you, Teri. Good morning, and thank you all for joining the call. Our science-led strategy, \n",
    "together with our clinical and commercial execution drove another quarter of accelerating revenue growth \n",
    "with strength across our global portfolio. Our results demonstrate the continued momentum of our business\n",
    "through the first half of the year and further show that our focus on the kind of innovation that significantly \n",
    "improves health outcome is paying off. As highlighted at our recent Investor Day, we are confident that our \n",
    "innovative portfolio of products and significant pipeline opportunities, supported by unparalleled R&D and \n",
    "commercial execution, will continue to drive strong growth while we invest in cutting-edge science to deliver \n",
    "breakthroughs over the next decade and beyond. Over the past quarter, we continue to advance our pipeline and \n",
    "presented encouraging data across our programs, including 2 additional regulatory approvals and a filing acceptance\n",
    "for KEYTRUDA, 2 new regulatory approvals in infectious diseases as well as new clinical data on the V114 pediatrics\n",
    "trials, MK-8591 and many others. Our clinical and regulatory progress reflects Merck's unwavering commitment to\n",
    "biomedical research aimed at bringing forward products that can make a meaningful difference in the lives of \n",
    "patients around the world. In addition, we continue to strategically invest in business development to strengthen\n",
    "our pipeline through value-enhancing external opportunities. This quarter alone, we announced 2 acquisitions that \n",
    "will bolster our oncology pipeline with Peloton Therapeutics and Tilos Therapeutics, respectively. We also \n",
    "successfully completed our tender offer for Immune Design and closed on the acquisition of Antelliq in Animal\n",
    "Health. We remain confident that our strategy, growth prospects, outstanding scientific and commercial talent \n",
    "and leadership team, together with our focus on execution will enable us to drive significant value for patients\n",
    "and shareholders this year and for years to come.\"\"\""
   ]
  },
  {
   "cell_type": "markdown",
   "metadata": {},
   "source": [
    "**Lets take a look at the tokenized version of this paragraph**"
   ]
  },
  {
   "cell_type": "code",
   "execution_count": 20,
   "metadata": {},
   "outputs": [
    {
     "name": "stdout",
     "output_type": "stream",
     "text": [
      "['Thank', 'you', ',', 'Teri', '.', 'Good', 'morning', ',', 'and', 'thank', 'you', 'all', 'for', 'joining', 'the', 'call', '.', 'Our', 'science-led', 'strategy', ',', 'together', 'with', 'our', 'clinical', 'and', 'commercial', 'execution', 'drove', 'another', 'quarter', 'of', 'accelerating', 'revenue', 'growth', 'with', 'strength', 'across', 'our', 'global', 'portfolio', '.', 'Our', 'results', 'demonstrate', 'the', 'continued', 'momentum', 'of', 'our', 'business', 'through', 'the', 'first', 'half', 'of', 'the', 'year', 'and', 'further', 'show', 'that', 'our', 'focus', 'on', 'the', 'kind', 'of', 'innovation', 'that', 'significantly', 'improves', 'health', 'outcome', 'is', 'paying', 'off', '.', 'As', 'highlighted', 'at', 'our', 'recent', 'Investor', 'Day', ',', 'we', 'are', 'confident', 'that', 'our', 'innovative', 'portfolio', 'of', 'products', 'and', 'significant', 'pipeline', 'opportunities', ',', 'supported', 'by', 'unparalleled', 'R', '&', 'D', 'and', 'commercial', 'execution', ',', 'will', 'continue', 'to', 'drive', 'strong', 'growth', 'while', 'we', 'invest', 'in', 'cutting-edge', 'science', 'to', 'deliver', 'breakthroughs', 'over', 'the', 'next', 'decade', 'and', 'beyond', '.', 'Over', 'the', 'past', 'quarter', ',', 'we', 'continue', 'to', 'advance', 'our', 'pipeline', 'and', 'presented', 'encouraging', 'data', 'across', 'our', 'programs', ',', 'including', '2', 'additional', 'regulatory', 'approvals', 'and', 'a', 'filing', 'acceptance', 'for', 'KEYTRUDA', ',', '2', 'new', 'regulatory', 'approvals', 'in', 'infectious', 'diseases', 'as', 'well', 'as', 'new', 'clinical', 'data', 'on', 'the', 'V114', 'pediatrics', 'trials', ',', 'MK-8591', 'and', 'many', 'others', '.', 'Our', 'clinical', 'and', 'regulatory', 'progress', 'reflects', 'Merck', \"'s\", 'unwavering', 'commitment', 'to', 'biomedical', 'research', 'aimed', 'at', 'bringing', 'forward', 'products', 'that', 'can', 'make', 'a', 'meaningful', 'difference', 'in', 'the', 'lives', 'of', 'patients', 'around', 'the', 'world', '.', 'In', 'addition', ',', 'we', 'continue', 'to', 'strategically', 'invest', 'in', 'business', 'development', 'to', 'strengthen', 'our', 'pipeline', 'through', 'value-enhancing', 'external', 'opportunities', '.', 'This', 'quarter', 'alone', ',', 'we', 'announced', '2', 'acquisitions', 'that', 'will', 'bolster', 'our', 'oncology', 'pipeline', 'with', 'Peloton', 'Therapeutics', 'and', 'Tilos', 'Therapeutics', ',', 'respectively', '.', 'We', 'also', 'successfully', 'completed', 'our', 'tender', 'offer', 'for', 'Immune', 'Design', 'and', 'closed', 'on', 'the', 'acquisition', 'of', 'Antelliq', 'in', 'Animal', 'Health', '.', 'We', 'remain', 'confident', 'that', 'our', 'strategy', ',', 'growth', 'prospects', ',', 'outstanding', 'scientific', 'and', 'commercial', 'talent', 'and', 'leadership', 'team', ',', 'together', 'with', 'our', 'focus', 'on', 'execution', 'will', 'enable', 'us', 'to', 'drive', 'significant', 'value', 'for', 'patients', 'and', 'shareholders', 'this', 'year', 'and', 'for', 'years', 'to', 'come', '.']\n"
     ]
    }
   ],
   "source": [
    "from nltk.tokenize import word_tokenize\n",
    "tokenized_word=word_tokenize(text)\n",
    "print(tokenized_word)"
   ]
  },
  {
   "cell_type": "markdown",
   "metadata": {},
   "source": [
    "**Lets find out the top 10 common words in this paragraph.**"
   ]
  },
  {
   "cell_type": "code",
   "execution_count": 21,
   "metadata": {},
   "outputs": [
    {
     "name": "stdout",
     "output_type": "stream",
     "text": [
      "<FreqDist with 183 samples and 328 outcomes>\n"
     ]
    }
   ],
   "source": [
    "from nltk.probability import FreqDist\n",
    "fdist = FreqDist(tokenized_word)\n",
    "print(fdist)"
   ]
  },
  {
   "cell_type": "code",
   "execution_count": 22,
   "metadata": {},
   "outputs": [
    {
     "data": {
      "text/plain": [
       "[(',', 16),\n",
       " ('and', 16),\n",
       " ('our', 13),\n",
       " ('.', 11),\n",
       " ('the', 11),\n",
       " ('to', 8),\n",
       " ('of', 7),\n",
       " ('that', 6),\n",
       " ('for', 5),\n",
       " ('we', 5)]"
      ]
     },
     "execution_count": 22,
     "metadata": {},
     "output_type": "execute_result"
    }
   ],
   "source": [
    "fdist.most_common(10)"
   ]
  },
  {
   "cell_type": "code",
   "execution_count": 23,
   "metadata": {},
   "outputs": [
    {
     "data": {
      "image/png": "[encoded data removed]",
      "text/plain": [
       "<Figure size 432x288 with 1 Axes>"
      ]
     },
     "metadata": {
      "needs_background": "light"
     },
     "output_type": "display_data"
    }
   ],
   "source": [
    "#Take a look at the frequency plot too.\n",
    "import matplotlib.pyplot as plt\n",
    "fdist.plot(30,cumulative=False)\n",
    "plt.show()"
   ]
  },
  {
   "cell_type": "markdown",
   "metadata": {},
   "source": [
    "**We can see there are some words less meaningful to our analysis**\n",
    "<br>They are actually considered as noise in the text - called Stopwords. For example: is, am, are, this, a, an, the, etc. By removing these stopwords, we can import a list of stopwords and filter out out list of tokens from these words."
   ]
  },
  {
   "cell_type": "code",
   "execution_count": 82,
   "metadata": {},
   "outputs": [
    {
     "name": "stdout",
     "output_type": "stream",
     "text": [
      "{'a', 'doesn', 'because', 'them', 'once', 'each', 'needn', 'my', 'me', 'its', 'about', 'yourself', 'most', 'now', 'i', 've', \"wasn't\", 'him', 'couldn', \"needn't\", \"mightn't\", 'should', 'hadn', 'but', 'during', 'up', 'on', 'll', 'mightn', \"that'll\", \"doesn't\", 'as', 'aren', 'those', 'here', 'few', 'can', 'same', 'why', 'we', 'she', 'are', 'below', 'by', \"isn't\", 'above', 'hers', 'been', 'so', \"aren't\", 'do', \"mustn't\", \"couldn't\", 'd', 'own', 'nor', 'have', 'doing', 'while', 'didn', 'has', 'of', 'haven', 'myself', 'itself', 'against', 'your', 'down', 'am', 'what', 'this', \"hasn't\", 'in', 'mustn', \"wouldn't\", \"you've\", 'for', 'there', 'at', 'their', 'theirs', \"she's\", 'ourselves', 'how', 'don', 'weren', 'than', 'is', 'no', 'hasn', 'and', 's', 'the', 'such', 'whom', 'only', 'it', 'they', 'if', 'too', \"won't\", 'yourselves', 'be', \"shan't\", 'where', 'which', 'or', \"don't\", 'being', 'again', 'between', 'themselves', 'through', 'yours', 'won', 'with', 't', \"shouldn't\", 'out', 'just', 'he', 'her', \"you're\", \"didn't\", 'does', 'after', 'to', \"you'll\", 'y', 'all', 're', 'that', 'an', 'ma', 'from', 'herself', 'further', 'before', 'off', \"haven't\", 'ours', 'not', 'these', 'm', 'more', 'over', 'o', 'was', 'until', \"hadn't\", 'then', 'wasn', 'other', 'were', 'his', 'into', \"it's\", 'wouldn', \"weren't\", 'who', 'will', 'both', 'you', 'ain', 'under', 'shan', \"should've\", 'our', 'shouldn', 'when', 'some', 'himself', 'having', 'any', 'did', 'had', 'very', \"you'd\", 'isn'}\n"
     ]
    }
   ],
   "source": [
    "from nltk.corpus import stopwords\n",
    "stop_words=set(stopwords.words(\"english\"))\n",
    "print(stop_words)\n",
    "#Take a look at the stopwords"
   ]
  },
  {
   "cell_type": "code",
   "execution_count": 86,
   "metadata": {},
   "outputs": [
    {
     "name": "stdout",
     "output_type": "stream",
     "text": [
      "Filterd Sentence: ['Thank', ',', 'Teri', '.', 'Good', 'morning', ',', 'thank', 'joining', 'call', '.', 'Our', 'science-led', 'strategy', ',', 'together', 'clinical', 'commercial', 'execution', 'drove', 'another', 'quarter', 'accelerating', 'revenue', 'growth', 'strength', 'across', 'global', 'portfolio', '.', 'Our', 'results', 'demonstrate', 'continued', 'momentum', 'business', 'first', 'half', 'year', 'show', 'focus', 'kind', 'innovation', 'significantly', 'improves', 'health', 'outcome', 'paying', '.', 'As', 'highlighted', 'recent', 'Investor', 'Day', ',', 'confident', 'innovative', 'portfolio', 'products', 'significant', 'pipeline', 'opportunities', ',', 'supported', 'unparalleled', 'R', '&', 'D', 'commercial', 'execution', ',', 'continue', 'drive', 'strong', 'growth', 'invest', 'cutting-edge', 'science', 'deliver', 'breakthroughs', 'next', 'decade', 'beyond', '.', 'Over', 'past', 'quarter', ',', 'continue', 'advance', 'pipeline', 'presented', 'encouraging', 'data', 'across', 'programs', ',', 'including', '2', 'additional', 'regulatory', 'approvals', 'filing', 'acceptance', 'KEYTRUDA', ',', '2', 'new', 'regulatory', 'approvals', 'infectious', 'diseases', 'well', 'new', 'clinical', 'data', 'V114', 'pediatrics', 'trials', ',', 'MK-8591', 'many', 'others', '.', 'Our', 'clinical', 'regulatory', 'progress', 'reflects', 'Merck', \"'s\", 'unwavering', 'commitment', 'biomedical', 'research', 'aimed', 'bringing', 'forward', 'products', 'make', 'meaningful', 'difference', 'lives', 'patients', 'around', 'world', '.', 'In', 'addition', ',', 'continue', 'strategically', 'invest', 'business', 'development', 'strengthen', 'pipeline', 'value-enhancing', 'external', 'opportunities', '.', 'This', 'quarter', 'alone', ',', 'announced', '2', 'acquisitions', 'bolster', 'oncology', 'pipeline', 'Peloton', 'Therapeutics', 'Tilos', 'Therapeutics', ',', 'respectively', '.', 'We', 'also', 'successfully', 'completed', 'tender', 'offer', 'Immune', 'Design', 'closed', 'acquisition', 'Antelliq', 'Animal', 'Health', '.', 'We', 'remain', 'confident', 'strategy', ',', 'growth', 'prospects', ',', 'outstanding', 'scientific', 'commercial', 'talent', 'leadership', 'team', ',', 'together', 'focus', 'execution', 'enable', 'us', 'drive', 'significant', 'value', 'patients', 'shareholders', 'year', 'years', 'come', '.']\n"
     ]
    }
   ],
   "source": [
    "#filter the stopwords \n",
    "filtered_sent=[]\n",
    "for w in tokenized_word:\n",
    "    if w not in stop_words:\n",
    "        filtered_sent.append(w)\n",
    "print(\"Filterd Sentence:\",filtered_sent)"
   ]
  },
  {
   "cell_type": "code",
   "execution_count": 87,
   "metadata": {},
   "outputs": [],
   "source": [
    "fdist_filter = FreqDist(filtered_sent)"
   ]
  },
  {
   "cell_type": "code",
   "execution_count": 88,
   "metadata": {},
   "outputs": [
    {
     "data": {
      "text/plain": [
       "[(',', 16),\n",
       " ('.', 11),\n",
       " ('pipeline', 4),\n",
       " ('Our', 3),\n",
       " ('clinical', 3),\n",
       " ('commercial', 3),\n",
       " ('execution', 3),\n",
       " ('quarter', 3),\n",
       " ('growth', 3),\n",
       " ('continue', 3)]"
      ]
     },
     "execution_count": 88,
     "metadata": {},
     "output_type": "execute_result"
    }
   ],
   "source": [
    "fdist_filter.most_common(10) #now we have a new top 10 common words for the paragraph"
   ]
  },
  {
   "cell_type": "code",
   "execution_count": 89,
   "metadata": {},
   "outputs": [
    {
     "data": {
      "image/png": "[encoded data removed]",
      "text/plain": [
       "<Figure size 432x288 with 1 Axes>"
      ]
     },
     "metadata": {
      "needs_background": "light"
     },
     "output_type": "display_data"
    }
   ],
   "source": [
    "#New frequency plot for top 10 common words\n",
    "fdist_filter.plot(30,cumulative=False)\n",
    "plt.show()"
   ]
  },
  {
   "cell_type": "code",
   "execution_count": null,
   "metadata": {},
   "outputs": [],
   "source": []
  }
 ],
 "metadata": {
  "kernelspec": {
   "display_name": "Python 3",
   "language": "python",
   "name": "python3"
  },
  "language_info": {
   "codemirror_mode": {
    "name": "ipython",
    "version": 3
   },
   "file_extension": ".py",
   "mimetype": "text/x-python",
   "name": "python",
   "nbconvert_exporter": "python",
   "pygments_lexer": "ipython3",
   "version": "3.6.8"
  }
 },
 "nbformat": 4,
 "nbformat_minor": 2
}
